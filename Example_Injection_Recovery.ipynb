{
 "cells": [
  {
   "cell_type": "markdown",
   "metadata": {},
   "source": [
    "# Example Injection Test\n",
    "Below is a run through of a basic, single injection test that can form the core of a larger loop over many trial planets using a parallel architecture\n",
    "\n",
    "This will use HIP67522 as the example lightcurve, inject a single planet, and try to find it again."
   ]
  },
  {
   "cell_type": "code",
   "execution_count": 2,
   "metadata": {
    "collapsed": true
   },
   "outputs": [],
   "source": [
    "import numpy as np\n",
    "import interface as thymeNL\n",
    "import lcfunctions as lcfunc\n",
    "import injection_recovery as IJ"
   ]
  },
  {
   "cell_type": "markdown",
   "metadata": {},
   "source": [
    "Load the data"
   ]
  },
  {
   "cell_type": "code",
   "execution_count": 3,
   "metadata": {},
   "outputs": [
    {
     "data": {
      "text/plain": [
       "rec.array([(1599.95768024, 1.00499221, 1.00096969, 0., 0, 0.),\n",
       "           (1599.95906914, 1.00411139, 1.0002825 , 0., 0, 0.),\n",
       "           (1599.96462475, 1.00461384, 1.00080516, 0., 0, 0.), ...,\n",
       "           (1623.8935936 , 0.99497414, 0.99481859, 0., 0, 0.),\n",
       "           (1623.89498245, 0.99417769, 0.99401646, 0., 0, 0.),\n",
       "           (1623.8963713 , 0.99518345, 0.99505984, 0., 0, 0.)],\n",
       "          dtype=[('t', '<f8'), ('fraw', '<f8'), ('fcor', '<f8'), ('s', '<f8'), ('qual', '<i8'), ('divisions', '<f8')])"
      ]
     },
     "metadata": {},
     "output_type": "display_data"
    }
   ],
   "source": [
    "\n",
    "target_name = 166527623\n",
    "datafile = 'tessdata/tess2019112060037-s0011-0000000166527623-0143-s_lc.fits'\n",
    "\n",
    "hip67522 = thymeNL.target(target_name)\n",
    "hip67522.load_data_tess(datafile)\n",
    "\n",
    "display(hip67522.data)"
   ]
  },
  {
   "cell_type": "markdown",
   "metadata": {},
   "source": [
    "Here are the parameters of the planet we will inject and try to recover"
   ]
  },
  {
   "cell_type": "code",
   "execution_count": 7,
   "metadata": {
    "collapsed": true
   },
   "outputs": [],
   "source": [
    "per   = 5.0\n",
    "rp    = 10.0 ##1.0 here will result in a non-recovery\n",
    "impact= 0.0\n",
    "ecc   = 0.0\n",
    "t0    = hip67522.data.t[0]+1.0\n",
    "omega = 90.0\n",
    "mstar = 1.22\n",
    "rstar = 1.38\n",
    "\n"
   ]
  },
  {
   "cell_type": "markdown",
   "metadata": {},
   "source": [
    "#### Run the injection-recovery test\n",
    "This will generate the planet signal, multiply it into the input data, run either notch or locor depending on the input parameters,\n",
    "and then run BLS (on both the detrended LC and the the BIC statistic if notch was run).\n",
    "If a planet with matching period/t0 to within 1% in both is recovered at any point, it will stop and output. In future Aaron will add customizable margin for matching here.\n",
    "###### INPUTS:\n",
    "    -------\n",
    "        data (numpy recarray): in the format specified in interface.read_tess_data\n",
    "        per: The orbital period in days for the model planet\n",
    "        rp : planet radius in Earth radii\n",
    "        impact: model impact parameter (0 - 1)\n",
    "        t0 : time of mid transit, should make sense relative to your input time array.\n",
    "        ecc: model eccentricity for the planet. Big numbers can cause numerical problems (best below 0.95).\n",
    "        omega: model argument of periastron passage angle for the planet in degrees\n",
    "        mstar: mass of the host star in Solar units\n",
    "        rstar: radius of the host star in Solar units\n",
    "        \n",
    "###### OPTIONALS:\n",
    "    ----------\n",
    "    windowsize=1.0: if demode=1 this is the nootch window size, if demode=2, this is the locor star rotation period.\n",
    "    alias_num=2.0: as per locors alias_num,. the minimum period to alias the rotation period of the stars (windowsize) to.\n",
    "    demode=1: 1=notch, 2=locor\n",
    "    min_period=1.0: minimum bls search period in days\n",
    "    max_period=15.0: maximum bls search period in days\n",
    "    forcenull=False: If true, always will reject the notch model, for testing purposes.\n",
    "    exposuretime=None: The exposure time in minutes of your input data. If None, will compute the most common time between data points and use that \n",
    "    ldpars=[0.4,0.3]: quadratic limb darkening parameters to use for star model\n",
    "    oversample=20: oversample rate for batman, 20 is usually ok\n",
    "    \n",
    "###### OUTPUTS:\n",
    "    --------\n",
    "    detected_it: 1 if recovered, 0 if not\n",
    "    detp: recovered period if recovered\n",
    "    dett0: recovered T0 if recovered\n",
    "    detdp: recovered depth if recovered (not trustable, and meaningless if BIC search was run).\n",
    "    '''"
   ]
  },
  {
   "cell_type": "code",
   "execution_count": 8,
   "metadata": {},
   "outputs": [
    {
     "name": "stderr",
     "output_type": "stream",
     "text": [
      "  0%|          | 10/13883 [00:00<02:35, 89.30it/s]"
     ]
    },
    {
     "name": "stdout",
     "output_type": "stream",
     "text": [
      "Running Detrend\n"
     ]
    },
    {
     "name": "stderr",
     "output_type": "stream",
     "text": [
      "100%|██████████| 13883/13883 [02:52<00:00, 80.66it/s] \n"
     ]
    },
    {
     "name": "stdout",
     "output_type": "stream",
     "text": [
      "Doing BIC Mode\n",
      "skipping gomask search\n",
      "Planet not Recovered :(!\n"
     ]
    }
   ],
   "source": [
    "detected_it,detp,dett0,detdp = IJ.inject_recover_tess(hip67522.data,per,rp,impact,t0,ecc,omega,mstar,rstar,windowsize=0.5,demode=1,alias_num=2.0,min_period=1.00001,max_period=15.0,forcenull=False,exposuretime=None,ldpars=[0.4,0.3],oversample=20)\n",
    "\n",
    "if detected_it == 1:\n",
    "    print('Planet recovered :)!')\n",
    "else: print('Planet not Recovered :(!')\n",
    "\n",
    "\n"
   ]
  },
  {
   "cell_type": "code",
   "execution_count": null,
   "metadata": {
    "collapsed": true
   },
   "outputs": [],
   "source": []
  }
 ],
 "metadata": {
  "kernelspec": {
   "display_name": "insight",
   "language": "python",
   "name": "insight"
  },
  "language_info": {
   "codemirror_mode": {
    "name": "ipython",
    "version": 3
   },
   "file_extension": ".py",
   "mimetype": "text/x-python",
   "name": "python",
   "nbconvert_exporter": "python",
   "pygments_lexer": "ipython3",
   "version": "3.7.9"
  }
 },
 "nbformat": 4,
 "nbformat_minor": 2
}
